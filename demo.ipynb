{
 "cells": [
  {
   "cell_type": "markdown",
   "id": "b96638e3",
   "metadata": {},
   "source": [
    "## 示例说明\n",
    "\n",
    "- 数据：\n",
    "- "
   ]
  },
  {
   "cell_type": "code",
   "execution_count": null,
   "id": "bbf9b420",
   "metadata": {},
   "outputs": [],
   "source": [
    "!python detect --weights ../datas/v5lite-s.pt --source ../datas/rgb --increment --classes 0 1 2 3 4 5"
   ]
  },
  {
   "cell_type": "code",
   "execution_count": null,
   "id": "0dfaf82b",
   "metadata": {},
   "outputs": [],
   "source": [
    "!cd runs/detect/exp\n",
    "!ffmpeg -r 10 -f image2 -i %5d.jpeg output.mp4"
   ]
  }
 ],
 "metadata": {
  "kernelspec": {
   "display_name": "Python 3 (ipykernel)",
   "language": "python",
   "name": "python3"
  }
 },
 "nbformat": 4,
 "nbformat_minor": 5
}
